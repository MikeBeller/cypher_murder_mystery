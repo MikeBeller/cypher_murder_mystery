{
 "cells": [
  {
   "cell_type": "markdown",
   "id": "e59803c7-15f2-4f75-a267-d751f9e73ffd",
   "metadata": {},
   "source": [
    "# Convert sql murder mystery to cypher!\n",
    "\n",
    "https://mystery.knightlab.com/"
   ]
  },
  {
   "cell_type": "code",
   "execution_count": 1,
   "id": "83483dfb-820a-4daa-b1d5-dd6fd60eb12a",
   "metadata": {},
   "outputs": [],
   "source": [
    "#%pip install kuzu pandas"
   ]
  },
  {
   "cell_type": "code",
   "execution_count": 2,
   "id": "0726b10b-03df-4e2c-a493-6ae9cf72bfea",
   "metadata": {},
   "outputs": [],
   "source": [
    "import kuzu\n",
    "import sqlite3\n",
    "import re\n",
    "import shutil\n",
    "\n",
    "sq = sqlite3.connect(\"sql.db\")\n",
    "\n",
    "db_path = '/tmp/foobar2'\n",
    "shutil.rmtree(db_path, ignore_errors=True)\n",
    "db = kuzu.Database(db_path)\n",
    "conn = kuzu.Connection(db)"
   ]
  },
  {
   "cell_type": "code",
   "execution_count": 3,
   "id": "00c9a4d6-c05f-48ea-aed7-daace09b60ae",
   "metadata": {},
   "outputs": [
    {
     "name": "stdout",
     "output_type": "stream",
     "text": [
      "('crime_scene_report', 'CREATE TABLE crime_scene_report (\\n        date integer,\\n        type text,\\n        description text,\\n        city text\\n    )')\n"
     ]
    }
   ],
   "source": [
    "t_raw = sq.execute(\"select tbl_name, sql from sqlite_schema where type = 'table'\").fetchall()\n",
    "print(t_raw[0])"
   ]
  },
  {
   "cell_type": "code",
   "execution_count": 4,
   "id": "6855b86e-d3f2-473f-aa54-169f52f000d9",
   "metadata": {},
   "outputs": [],
   "source": [
    "def sql_to_schema(tname, sql):\n",
    "    sql = sql.replace(\"\\n\",\"\")\n",
    "    rest = sql.split(\"(\",1)[1].replace(\"(\",\" \").replace(\")\",\" \")\n",
    "    rest = re.sub(r'\\s+', ' ', rest)\n",
    "    tbl = {'name': tname, 'fields': [], 'primary_key': None, 'foreign_key': None}\n",
    "    for item in rest.split(\",\"):\n",
    "        f = item.strip().split()\n",
    "        name = f[0]\n",
    "        if name == \"FOREIGN\":\n",
    "            fk_f = f[2]\n",
    "            fk_t = f[4]\n",
    "            fk_r = f[5]\n",
    "            tbl['foreign_key'] = (fk_f, fk_t, fk_r)\n",
    "            continue\n",
    "        if 'PRIMARY' in f:\n",
    "            tbl['primary_key'] = name\n",
    "        tbl['fields'].append((f[0], f[1]))\n",
    "    return tbl\n",
    "    \n",
    "schema = [sql_to_schema(tname, sql) for tname,sql in t_raw]\n",
    "#schema"
   ]
  },
  {
   "cell_type": "code",
   "execution_count": 5,
   "id": "c8f97c12-f297-4b4e-8c3e-1bf91458f820",
   "metadata": {},
   "outputs": [
    {
     "name": "stdout",
     "output_type": "stream",
     "text": [
      "create node table crime_scene_report (id serial,date int64,type string,description string,city string,primary key (id));\n",
      "create node table drivers_license (id int64,age int64,height int64,eye_color string,hair_color string,gender string,plate_number string,car_make string,car_model string,primary key (id));\n",
      "create node table facebook_event_checkin (id serial,person_id int64,event_id int64,event_name string,date int64,primary key (id));\n",
      "create node table interview (id serial,person_id int64,transcript string,primary key (id));\n",
      "create node table get_fit_now_member (id string,person_id int64,name string,membership_start_date int64,membership_status string,primary key (id));\n",
      "create node table get_fit_now_check_in (id serial,membership_id string,check_in_date int64,check_in_time int64,check_out_time int64,primary key (id));\n",
      "create node table solution (id serial,user int64,value string,primary key (id));\n",
      "create node table income (ssn string,annual_income int64,primary key (ssn));\n",
      "create node table person (id int64,name string,license_id int64,address_number int64,address_street_name string,ssn string,primary key (id));\n"
     ]
    }
   ],
   "source": [
    "\n",
    "def cleanup(t):\n",
    "    t = t.lower()\n",
    "    if t in ['varchar','text','char']:\n",
    "        return 'string'\n",
    "    if t in ['bigint','integer']:\n",
    "        return 'int64'\n",
    "    return t\n",
    "    \n",
    "gschema = []\n",
    "for ot in schema:\n",
    "    t = ot.copy()\n",
    "    if t['primary_key'] is None:\n",
    "        t['fields'] = [('id','serial')] + t['fields']\n",
    "        t['primary_key'] = 'id'\n",
    "    t['fields'] = [(n,cleanup(t)) for n,t in t['fields']]\n",
    "    gschema.append(t)\n",
    "\n",
    "for t in gschema:\n",
    "    fieldstr = \",\".join([f\"{n} {t}\" for n,t in t['fields']] + [f\"primary key ({t['primary_key']})\"])\n",
    "    cypher = f\"create node table {t['name']} ({fieldstr});\"\n",
    "    print(cypher)\n",
    "    conn.execute(cypher)\n"
   ]
  },
  {
   "cell_type": "code",
   "execution_count": 6,
   "id": "7d98e1bf-113f-471d-aadc-b80ead2a3602",
   "metadata": {},
   "outputs": [
    {
     "data": {
      "text/plain": [
       "(2, 23)"
      ]
     },
     "execution_count": 6,
     "metadata": {},
     "output_type": "execute_result"
    }
   ],
   "source": [
    "tuple([2,23])"
   ]
  },
  {
   "cell_type": "code",
   "execution_count": 7,
   "id": "b8135681-935a-460a-8d6a-d8e23009dd2e",
   "metadata": {},
   "outputs": [],
   "source": [
    "### COPY IN NODE DATA\n",
    "import csv\n",
    "\n",
    "def clean_cols(t):\n",
    "    return tuple([c.replace(\"\\n\",\" \").replace('\"',\"'\") if type(c) == str else c for c in t])\n",
    "    \n",
    "for st,gt in zip(schema,gschema):\n",
    "    with open(\"tmp.csv\",\"w\") as f:\n",
    "        w = csv.writer(f)\n",
    "        cols = [cn for cn,_ in st['fields']]\n",
    "        w.writerow(cols)\n",
    "        rows = sq.execute(f\"select {','.join(cols)} from {st['name']}\").fetchall()\n",
    "        for row in rows:\n",
    "            clean_row = clean_cols(row)\n",
    "            w.writerow(clean_row)\n",
    "    conn.execute(f\"copy {gt['name']} from 'tmp.csv' (header=true, parallel=false)\")\n",
    "        "
   ]
  },
  {
   "cell_type": "code",
   "execution_count": 8,
   "id": "960f43f5-393f-4811-8107-b580bd5b366f",
   "metadata": {},
   "outputs": [],
   "source": [
    "#conn.execute(\"match (i:income) return *\").get_as_df()"
   ]
  },
  {
   "cell_type": "code",
   "execution_count": 9,
   "id": "d6d566f6-4789-4d34-95f5-69bc17e1e2f2",
   "metadata": {},
   "outputs": [
    {
     "data": {
      "text/plain": [
       "[<kuzu.query_result.QueryResult at 0x1117b4bd0>,\n",
       " <kuzu.query_result.QueryResult at 0x1117b6690>,\n",
       " <kuzu.query_result.QueryResult at 0x1117b66d0>,\n",
       " <kuzu.query_result.QueryResult at 0x1117b7610>,\n",
       " <kuzu.query_result.QueryResult at 0x1117b7910>,\n",
       " <kuzu.query_result.QueryResult at 0x1117b7a10>]"
      ]
     },
     "execution_count": 9,
     "metadata": {},
     "output_type": "execute_result"
    }
   ],
   "source": [
    "cy = \"\"\"\n",
    "create rel table has_license (from person to drivers_license);\n",
    "create rel table has_income (from person to income);\n",
    "create rel table has_interview (from person to interview);\n",
    "create rel table has_checkin (from get_fit_now_member to get_fit_now_check_in);\n",
    "create rel table went_to_event (from person to facebook_event_checkin);\n",
    "create rel table is_member (from person to get_fit_now_member);\n",
    "\"\"\"\n",
    "conn.execute(cy)"
   ]
  },
  {
   "cell_type": "code",
   "execution_count": 10,
   "id": "052ea717-02d6-4d6a-ac62-c5e632c497e0",
   "metadata": {},
   "outputs": [
    {
     "data": {
      "text/plain": [
       "[<kuzu.query_result.QueryResult at 0x1117b9510>,\n",
       " <kuzu.query_result.QueryResult at 0x1117b9550>,\n",
       " <kuzu.query_result.QueryResult at 0x1117b9590>,\n",
       " <kuzu.query_result.QueryResult at 0x1117b8bd0>,\n",
       " <kuzu.query_result.QueryResult at 0x1117b8c90>,\n",
       " <kuzu.query_result.QueryResult at 0x1117b9610>]"
      ]
     },
     "execution_count": 10,
     "metadata": {},
     "output_type": "execute_result"
    }
   ],
   "source": [
    "cy = \"\"\"\n",
    "match (p:person), (d:drivers_license) where p.license_id = d.id\n",
    "create (p)-[:has_license]->(d);\n",
    "match (p:person), (i:income) where p.ssn = i.ssn\n",
    "create (p)-[:has_income]->(i);\n",
    "match (p:person), (i:interview) where p.id = i.person_id\n",
    "create (p)-[:has_interview]->(i);\n",
    "match (p:person), (m:get_fit_now_member) where p.id = m.person_id\n",
    "create (p)-[:is_member]->(m);\n",
    "match (p:person), (e:facebook_event_checkin) where p.id = e.person_id\n",
    "create (p)-[:went_to_event]->(e);\n",
    "match (m:get_fit_now_member), (c:get_fit_now_check_in) where c.membership_id = m.id\n",
    "create (m)-[:has_checkin]->(c);\n",
    "\"\"\"\n",
    "conn.execute(cy)"
   ]
  },
  {
   "cell_type": "code",
   "execution_count": 11,
   "id": "45acb23b-2ff0-4445-964c-baf44c12ee88",
   "metadata": {},
   "outputs": [],
   "source": [
    "def cyph(s):\n",
    "    return conn.execute(s).get_as_df()\n"
   ]
  },
  {
   "cell_type": "code",
   "execution_count": 12,
   "id": "1de9a863-d10e-4be0-81d9-76b8afe1d5b1",
   "metadata": {},
   "outputs": [
    {
     "data": {
      "text/html": [
       "<div>\n",
       "<style scoped>\n",
       "    .dataframe tbody tr th:only-of-type {\n",
       "        vertical-align: middle;\n",
       "    }\n",
       "\n",
       "    .dataframe tbody tr th {\n",
       "        vertical-align: top;\n",
       "    }\n",
       "\n",
       "    .dataframe thead th {\n",
       "        text-align: right;\n",
       "    }\n",
       "</style>\n",
       "<table border=\"1\" class=\"dataframe\">\n",
       "  <thead>\n",
       "    <tr style=\"text-align: right;\">\n",
       "      <th></th>\n",
       "      <th>COUNT_STAR()</th>\n",
       "    </tr>\n",
       "  </thead>\n",
       "  <tbody>\n",
       "    <tr>\n",
       "      <th>0</th>\n",
       "      <td>7511</td>\n",
       "    </tr>\n",
       "  </tbody>\n",
       "</table>\n",
       "</div>"
      ],
      "text/plain": [
       "   COUNT_STAR()\n",
       "0          7511"
      ]
     },
     "execution_count": 12,
     "metadata": {},
     "output_type": "execute_result"
    }
   ],
   "source": [
    "cyph(\"\"\"match (i:income) return count(*)\"\"\")"
   ]
  },
  {
   "cell_type": "code",
   "execution_count": 16,
   "id": "8716c5dc-8bdc-48a4-b80e-18e875e2aa74",
   "metadata": {},
   "outputs": [
    {
     "data": {
      "text/html": [
       "<div>\n",
       "<style scoped>\n",
       "    .dataframe tbody tr th:only-of-type {\n",
       "        vertical-align: middle;\n",
       "    }\n",
       "\n",
       "    .dataframe tbody tr th {\n",
       "        vertical-align: top;\n",
       "    }\n",
       "\n",
       "    .dataframe thead th {\n",
       "        text-align: right;\n",
       "    }\n",
       "</style>\n",
       "<table border=\"1\" class=\"dataframe\">\n",
       "  <thead>\n",
       "    <tr style=\"text-align: right;\">\n",
       "      <th></th>\n",
       "      <th>r.id</th>\n",
       "      <th>r.date</th>\n",
       "      <th>r.type</th>\n",
       "      <th>r.description</th>\n",
       "      <th>r.city</th>\n",
       "    </tr>\n",
       "  </thead>\n",
       "  <tbody>\n",
       "    <tr>\n",
       "      <th>0</th>\n",
       "      <td>1</td>\n",
       "      <td>20180115</td>\n",
       "      <td>murder</td>\n",
       "      <td>Life? Dont talk to me about life.</td>\n",
       "      <td>Albany</td>\n",
       "    </tr>\n",
       "    <tr>\n",
       "      <th>1</th>\n",
       "      <td>2</td>\n",
       "      <td>20180115</td>\n",
       "      <td>murder</td>\n",
       "      <td>Mama, I killed a man, put a gun against his he...</td>\n",
       "      <td>Reno</td>\n",
       "    </tr>\n",
       "    <tr>\n",
       "      <th>2</th>\n",
       "      <td>1227</td>\n",
       "      <td>20180115</td>\n",
       "      <td>murder</td>\n",
       "      <td>Security footage shows that there were 2 witne...</td>\n",
       "      <td>SQL City</td>\n",
       "    </tr>\n",
       "  </tbody>\n",
       "</table>\n",
       "</div>"
      ],
      "text/plain": [
       "   r.id    r.date  r.type                                      r.description  \\\n",
       "0     1  20180115  murder                  Life? Dont talk to me about life.   \n",
       "1     2  20180115  murder  Mama, I killed a man, put a gun against his he...   \n",
       "2  1227  20180115  murder  Security footage shows that there were 2 witne...   \n",
       "\n",
       "     r.city  \n",
       "0    Albany  \n",
       "1      Reno  \n",
       "2  SQL City  "
      ]
     },
     "execution_count": 16,
     "metadata": {},
     "output_type": "execute_result"
    }
   ],
   "source": [
    "df = cyph(\"\"\"match (r:crime_scene_report) where r.type = 'murder' and r.date = 20180115 return r.*\"\"\")\n",
    "df"
   ]
  },
  {
   "cell_type": "code",
   "execution_count": 25,
   "id": "92698759-5ee5-4feb-adc3-e2fb471f0b5c",
   "metadata": {},
   "outputs": [
    {
     "data": {
      "text/plain": [
       "array([\"Security footage shows that there were 2 witnesses. The first witness lives at the last house on 'Northwestern Dr'. The second witness, named Annabel, lives somewhere on 'Franklin Ave'.\"],\n",
       "      dtype=object)"
      ]
     },
     "execution_count": 25,
     "metadata": {},
     "output_type": "execute_result"
    }
   ],
   "source": [
    "df.loc[df['r.id'] == 1227, 'r.description'].values"
   ]
  },
  {
   "cell_type": "code",
   "execution_count": 28,
   "id": "41ed915d-7358-4ffa-a3c2-493a111ea989",
   "metadata": {},
   "outputs": [
    {
     "data": {
      "text/html": [
       "<div>\n",
       "<style scoped>\n",
       "    .dataframe tbody tr th:only-of-type {\n",
       "        vertical-align: middle;\n",
       "    }\n",
       "\n",
       "    .dataframe tbody tr th {\n",
       "        vertical-align: top;\n",
       "    }\n",
       "\n",
       "    .dataframe thead th {\n",
       "        text-align: right;\n",
       "    }\n",
       "</style>\n",
       "<table border=\"1\" class=\"dataframe\">\n",
       "  <thead>\n",
       "    <tr style=\"text-align: right;\">\n",
       "      <th></th>\n",
       "      <th>p.id</th>\n",
       "      <th>p.name</th>\n",
       "      <th>p.license_id</th>\n",
       "      <th>p.address_number</th>\n",
       "      <th>p.address_street_name</th>\n",
       "      <th>p.ssn</th>\n",
       "    </tr>\n",
       "  </thead>\n",
       "  <tbody>\n",
       "    <tr>\n",
       "      <th>0</th>\n",
       "      <td>14887</td>\n",
       "      <td>Morty Schapiro</td>\n",
       "      <td>118009</td>\n",
       "      <td>4919</td>\n",
       "      <td>Northwestern Dr</td>\n",
       "      <td>111564949</td>\n",
       "    </tr>\n",
       "    <tr>\n",
       "      <th>1</th>\n",
       "      <td>17729</td>\n",
       "      <td>Lasonya Wildey</td>\n",
       "      <td>439686</td>\n",
       "      <td>3824</td>\n",
       "      <td>Northwestern Dr</td>\n",
       "      <td>917817122</td>\n",
       "    </tr>\n",
       "    <tr>\n",
       "      <th>2</th>\n",
       "      <td>53890</td>\n",
       "      <td>Sophie Tiberio</td>\n",
       "      <td>957671</td>\n",
       "      <td>3755</td>\n",
       "      <td>Northwestern Dr</td>\n",
       "      <td>442830147</td>\n",
       "    </tr>\n",
       "  </tbody>\n",
       "</table>\n",
       "</div>"
      ],
      "text/plain": [
       "    p.id          p.name  p.license_id  p.address_number  \\\n",
       "0  14887  Morty Schapiro        118009              4919   \n",
       "1  17729  Lasonya Wildey        439686              3824   \n",
       "2  53890  Sophie Tiberio        957671              3755   \n",
       "\n",
       "  p.address_street_name      p.ssn  \n",
       "0       Northwestern Dr  111564949  \n",
       "1       Northwestern Dr  917817122  \n",
       "2       Northwestern Dr  442830147  "
      ]
     },
     "execution_count": 28,
     "metadata": {},
     "output_type": "execute_result"
    }
   ],
   "source": [
    "cyph(\"\"\"\n",
    "match (p:person) where p.address_street_name = 'Northwestern Dr'\n",
    "return p.*\n",
    "order by p.address_number desc\n",
    "limit 3\n",
    "\"\"\")"
   ]
  },
  {
   "cell_type": "code",
   "execution_count": 32,
   "id": "af9778a7-5a20-42e8-baf6-27e4f8c8251a",
   "metadata": {},
   "outputs": [
    {
     "data": {
      "text/plain": [
       "array([[\"I heard a gunshot and then saw a man run out. He had a 'Get Fit Now Gym' bag. The membership number on the bag started with '48Z'. Only gold members have those bags. The man got into a car with a plate that included 'H42W'.\"]],\n",
       "      dtype=object)"
      ]
     },
     "execution_count": 32,
     "metadata": {},
     "output_type": "execute_result"
    }
   ],
   "source": [
    "cyph(\"\"\"\n",
    "match (p:person {id: 14887})-[:has_interview]->(i:interview)\n",
    "return i.transcript\n",
    "\"\"\").values"
   ]
  },
  {
   "cell_type": "code",
   "execution_count": null,
   "id": "02dbfab8-cf1f-4227-8095-91f513578621",
   "metadata": {},
   "outputs": [],
   "source": []
  }
 ],
 "metadata": {
  "kernelspec": {
   "display_name": "Python 3 (ipykernel)",
   "language": "python",
   "name": "python3"
  },
  "language_info": {
   "codemirror_mode": {
    "name": "ipython",
    "version": 3
   },
   "file_extension": ".py",
   "mimetype": "text/x-python",
   "name": "python",
   "nbconvert_exporter": "python",
   "pygments_lexer": "ipython3",
   "version": "3.11.2"
  }
 },
 "nbformat": 4,
 "nbformat_minor": 5
}
