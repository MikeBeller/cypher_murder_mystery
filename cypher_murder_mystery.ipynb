{
 "cells": [
  {
   "cell_type": "markdown",
   "id": "e59803c7-15f2-4f75-a267-d751f9e73ffd",
   "metadata": {},
   "source": [
    "# Convert sql murder mystery to cypher!\n",
    "\n",
    "https://mystery.knightlab.com/"
   ]
  },
  {
   "cell_type": "code",
   "execution_count": 1,
   "id": "83483dfb-820a-4daa-b1d5-dd6fd60eb12a",
   "metadata": {},
   "outputs": [],
   "source": [
    "#%pip install kuzu pandas"
   ]
  },
  {
   "cell_type": "code",
   "execution_count": 2,
   "id": "0726b10b-03df-4e2c-a493-6ae9cf72bfea",
   "metadata": {},
   "outputs": [],
   "source": [
    "import kuzu\n",
    "import sqlite3\n",
    "import re\n",
    "import shutil\n",
    "\n",
    "sq = sqlite3.connect(\"sql.db\")\n",
    "\n",
    "db_path = '/tmp/foobar2'\n",
    "shutil.rmtree(db_path, ignore_errors=True)\n",
    "db = kuzu.Database(db_path)\n",
    "conn = kuzu.Connection(db)"
   ]
  },
  {
   "cell_type": "code",
   "execution_count": 3,
   "id": "00c9a4d6-c05f-48ea-aed7-daace09b60ae",
   "metadata": {},
   "outputs": [
    {
     "name": "stdout",
     "output_type": "stream",
     "text": [
      "('crime_scene_report', 'CREATE TABLE crime_scene_report (\\n        date integer,\\n        type text,\\n        description text,\\n        city text\\n    )')\n"
     ]
    }
   ],
   "source": [
    "t_raw = sq.execute(\"select tbl_name, sql from sqlite_schema where type = 'table'\").fetchall()\n",
    "print(t_raw[0])"
   ]
  },
  {
   "cell_type": "code",
   "execution_count": 4,
   "id": "6855b86e-d3f2-473f-aa54-169f52f000d9",
   "metadata": {},
   "outputs": [],
   "source": [
    "def sql_to_schema(tname, sql):\n",
    "    sql = sql.replace(\"\\n\",\"\")\n",
    "    rest = sql.split(\"(\",1)[1].replace(\"(\",\" \").replace(\")\",\" \")\n",
    "    rest = re.sub(r'\\s+', ' ', rest)\n",
    "    tbl = {'name': tname, 'fields': [], 'primary_key': None, 'foreign_key': None}\n",
    "    for item in rest.split(\",\"):\n",
    "        f = item.strip().split()\n",
    "        name = f[0]\n",
    "        if name == \"FOREIGN\":\n",
    "            fk_f = f[2]\n",
    "            fk_t = f[4]\n",
    "            fk_r = f[5]\n",
    "            tbl['foreign_key'] = (fk_f, fk_t, fk_r)\n",
    "            continue\n",
    "        if 'PRIMARY' in f:\n",
    "            tbl['primary_key'] = name\n",
    "        tbl['fields'].append((f[0], f[1]))\n",
    "    return tbl\n",
    "    \n",
    "schema = [sql_to_schema(tname, sql) for tname,sql in t_raw]\n",
    "#schema"
   ]
  },
  {
   "cell_type": "code",
   "execution_count": 5,
   "id": "c8f97c12-f297-4b4e-8c3e-1bf91458f820",
   "metadata": {},
   "outputs": [],
   "source": [
    "\n",
    "def cleanup(t):\n",
    "    t = t.lower()\n",
    "    if t in ['varchar','text','char']:\n",
    "        return 'string'\n",
    "    if t in ['bigint','integer']:\n",
    "        return 'int64'\n",
    "    return t\n",
    "    \n",
    "gschema = []\n",
    "for ot in schema:\n",
    "    t = ot.copy()\n",
    "    if t['primary_key'] is None:\n",
    "        t['fields'] = [('id','serial')] + t['fields']\n",
    "        t['primary_key'] = 'id'\n",
    "    t['fields'] = [(n,cleanup(t)) for n,t in t['fields']]\n",
    "    gschema.append(t)\n",
    "\n",
    "for t in gschema:\n",
    "    fieldstr = \",\".join([f\"{n} {t}\" for n,t in t['fields']] + [f\"primary key ({t['primary_key']})\"])\n",
    "    cypher = f\"create node table {t['name']} ({fieldstr});\"\n",
    "    conn.execute(cypher)\n"
   ]
  },
  {
   "cell_type": "code",
   "execution_count": 6,
   "id": "7d98e1bf-113f-471d-aadc-b80ead2a3602",
   "metadata": {},
   "outputs": [
    {
     "data": {
      "text/plain": [
       "(2, 23)"
      ]
     },
     "execution_count": 6,
     "metadata": {},
     "output_type": "execute_result"
    }
   ],
   "source": [
    "tuple([2,23])"
   ]
  },
  {
   "cell_type": "code",
   "execution_count": 7,
   "id": "b8135681-935a-460a-8d6a-d8e23009dd2e",
   "metadata": {},
   "outputs": [],
   "source": [
    "### COPY IN NODE DATA\n",
    "import csv\n",
    "\n",
    "def clean_cols(t):\n",
    "    return tuple([c.replace(\"\\n\",\" \").replace('\"',\"'\") if type(c) == str else c for c in t])\n",
    "    \n",
    "for st,gt in zip(schema,gschema):\n",
    "    with open(\"tmp.csv\",\"w\") as f:\n",
    "        w = csv.writer(f)\n",
    "        cols = [cn for cn,_ in st['fields']]\n",
    "        w.writerow(cols)\n",
    "        rows = sq.execute(f\"select {','.join(cols)} from {st['name']}\").fetchall()\n",
    "        for row in rows:\n",
    "            clean_row = clean_cols(row)\n",
    "            w.writerow(clean_row)\n",
    "    conn.execute(f\"copy {gt['name']} from 'tmp.csv' (header=true, parallel=false)\")\n",
    "        "
   ]
  },
  {
   "cell_type": "code",
   "execution_count": 8,
   "id": "960f43f5-393f-4811-8107-b580bd5b366f",
   "metadata": {},
   "outputs": [
    {
     "data": {
      "text/html": [
       "<div>\n",
       "<style scoped>\n",
       "    .dataframe tbody tr th:only-of-type {\n",
       "        vertical-align: middle;\n",
       "    }\n",
       "\n",
       "    .dataframe tbody tr th {\n",
       "        vertical-align: top;\n",
       "    }\n",
       "\n",
       "    .dataframe thead th {\n",
       "        text-align: right;\n",
       "    }\n",
       "</style>\n",
       "<table border=\"1\" class=\"dataframe\">\n",
       "  <thead>\n",
       "    <tr style=\"text-align: right;\">\n",
       "      <th></th>\n",
       "      <th>i</th>\n",
       "    </tr>\n",
       "  </thead>\n",
       "  <tbody>\n",
       "    <tr>\n",
       "      <th>0</th>\n",
       "      <td>{'_id': {'offset': 4096, 'table': 7}, '_label'...</td>\n",
       "    </tr>\n",
       "    <tr>\n",
       "      <th>1</th>\n",
       "      <td>{'_id': {'offset': 4097, 'table': 7}, '_label'...</td>\n",
       "    </tr>\n",
       "    <tr>\n",
       "      <th>2</th>\n",
       "      <td>{'_id': {'offset': 4098, 'table': 7}, '_label'...</td>\n",
       "    </tr>\n",
       "    <tr>\n",
       "      <th>3</th>\n",
       "      <td>{'_id': {'offset': 4099, 'table': 7}, '_label'...</td>\n",
       "    </tr>\n",
       "    <tr>\n",
       "      <th>4</th>\n",
       "      <td>{'_id': {'offset': 4100, 'table': 7}, '_label'...</td>\n",
       "    </tr>\n",
       "    <tr>\n",
       "      <th>...</th>\n",
       "      <td>...</td>\n",
       "    </tr>\n",
       "    <tr>\n",
       "      <th>7506</th>\n",
       "      <td>{'_id': {'offset': 7506, 'table': 7}, '_label'...</td>\n",
       "    </tr>\n",
       "    <tr>\n",
       "      <th>7507</th>\n",
       "      <td>{'_id': {'offset': 7507, 'table': 7}, '_label'...</td>\n",
       "    </tr>\n",
       "    <tr>\n",
       "      <th>7508</th>\n",
       "      <td>{'_id': {'offset': 7508, 'table': 7}, '_label'...</td>\n",
       "    </tr>\n",
       "    <tr>\n",
       "      <th>7509</th>\n",
       "      <td>{'_id': {'offset': 7509, 'table': 7}, '_label'...</td>\n",
       "    </tr>\n",
       "    <tr>\n",
       "      <th>7510</th>\n",
       "      <td>{'_id': {'offset': 7510, 'table': 7}, '_label'...</td>\n",
       "    </tr>\n",
       "  </tbody>\n",
       "</table>\n",
       "<p>7511 rows × 1 columns</p>\n",
       "</div>"
      ],
      "text/plain": [
       "                                                      i\n",
       "0     {'_id': {'offset': 4096, 'table': 7}, '_label'...\n",
       "1     {'_id': {'offset': 4097, 'table': 7}, '_label'...\n",
       "2     {'_id': {'offset': 4098, 'table': 7}, '_label'...\n",
       "3     {'_id': {'offset': 4099, 'table': 7}, '_label'...\n",
       "4     {'_id': {'offset': 4100, 'table': 7}, '_label'...\n",
       "...                                                 ...\n",
       "7506  {'_id': {'offset': 7506, 'table': 7}, '_label'...\n",
       "7507  {'_id': {'offset': 7507, 'table': 7}, '_label'...\n",
       "7508  {'_id': {'offset': 7508, 'table': 7}, '_label'...\n",
       "7509  {'_id': {'offset': 7509, 'table': 7}, '_label'...\n",
       "7510  {'_id': {'offset': 7510, 'table': 7}, '_label'...\n",
       "\n",
       "[7511 rows x 1 columns]"
      ]
     },
     "execution_count": 8,
     "metadata": {},
     "output_type": "execute_result"
    }
   ],
   "source": [
    "conn.execute(\"match (i:income) return *\").get_as_df()"
   ]
  },
  {
   "cell_type": "code",
   "execution_count": 9,
   "id": "d6d566f6-4789-4d34-95f5-69bc17e1e2f2",
   "metadata": {},
   "outputs": [
    {
     "data": {
      "text/plain": [
       "[<kuzu.query_result.QueryResult at 0x1077fe810>,\n",
       " <kuzu.query_result.QueryResult at 0x108af0450>,\n",
       " <kuzu.query_result.QueryResult at 0x1077befd0>,\n",
       " <kuzu.query_result.QueryResult at 0x129b61fd0>,\n",
       " <kuzu.query_result.QueryResult at 0x129b62290>,\n",
       " <kuzu.query_result.QueryResult at 0x129b62fd0>]"
      ]
     },
     "execution_count": 9,
     "metadata": {},
     "output_type": "execute_result"
    }
   ],
   "source": [
    "cy = \"\"\"\n",
    "create rel table has_license (from person to drivers_license);\n",
    "create rel table has_income (from person to income);\n",
    "create rel table has_interview (from person to interview);\n",
    "create rel table has_checkin (from get_fit_now_member to get_fit_now_check_in);\n",
    "create rel table went_to_event (from person to facebook_event_checkin);\n",
    "create rel table is_member (from person to get_fit_now_member);\n",
    "\"\"\"\n",
    "conn.execute(cy)"
   ]
  },
  {
   "cell_type": "code",
   "execution_count": 10,
   "id": "052ea717-02d6-4d6a-ac62-c5e632c497e0",
   "metadata": {},
   "outputs": [
    {
     "data": {
      "text/plain": [
       "[<kuzu.query_result.QueryResult at 0x129b74150>,\n",
       " <kuzu.query_result.QueryResult at 0x129b741d0>,\n",
       " <kuzu.query_result.QueryResult at 0x129b74290>,\n",
       " <kuzu.query_result.QueryResult at 0x129b74310>,\n",
       " <kuzu.query_result.QueryResult at 0x129b74390>,\n",
       " <kuzu.query_result.QueryResult at 0x129b74410>]"
      ]
     },
     "execution_count": 10,
     "metadata": {},
     "output_type": "execute_result"
    }
   ],
   "source": [
    "cy = \"\"\"\n",
    "match (p:person), (d:drivers_license) where p.license_id = d.id\n",
    "create (p)-[:has_license]->(d);\n",
    "match (p:person), (i:income) where p.ssn = i.ssn\n",
    "create (p)-[:has_income]->(i);\n",
    "match (p:person), (i:interview) where p.id = i.person_id\n",
    "create (p)-[:has_interview]->(i);\n",
    "match (p:person), (m:get_fit_now_member) where p.id = m.person_id\n",
    "create (p)-[:is_member]->(m);\n",
    "match (p:person), (e:facebook_event_checkin) where p.id = e.person_id\n",
    "create (p)-[:went_to_event]->(e);\n",
    "match (m:get_fit_now_member), (c:get_fit_now_check_in) where c.membership_id = m.id\n",
    "create (m)-[:has_checkin]->(c);\n",
    "\"\"\"\n",
    "conn.execute(cy)"
   ]
  },
  {
   "cell_type": "code",
   "execution_count": 11,
   "id": "45acb23b-2ff0-4445-964c-baf44c12ee88",
   "metadata": {},
   "outputs": [],
   "source": [
    "def cyph(s):\n",
    "    return conn.execute(s).get_as_df()\n"
   ]
  },
  {
   "cell_type": "code",
   "execution_count": 14,
   "id": "1de9a863-d10e-4be0-81d9-76b8afe1d5b1",
   "metadata": {},
   "outputs": [
    {
     "data": {
      "text/html": [
       "<div>\n",
       "<style scoped>\n",
       "    .dataframe tbody tr th:only-of-type {\n",
       "        vertical-align: middle;\n",
       "    }\n",
       "\n",
       "    .dataframe tbody tr th {\n",
       "        vertical-align: top;\n",
       "    }\n",
       "\n",
       "    .dataframe thead th {\n",
       "        text-align: right;\n",
       "    }\n",
       "</style>\n",
       "<table border=\"1\" class=\"dataframe\">\n",
       "  <thead>\n",
       "    <tr style=\"text-align: right;\">\n",
       "      <th></th>\n",
       "      <th>i</th>\n",
       "    </tr>\n",
       "  </thead>\n",
       "  <tbody>\n",
       "    <tr>\n",
       "      <th>0</th>\n",
       "      <td>{'_id': {'offset': 6144, 'table': 7}, '_label'...</td>\n",
       "    </tr>\n",
       "    <tr>\n",
       "      <th>1</th>\n",
       "      <td>{'_id': {'offset': 6145, 'table': 7}, '_label'...</td>\n",
       "    </tr>\n",
       "    <tr>\n",
       "      <th>2</th>\n",
       "      <td>{'_id': {'offset': 6146, 'table': 7}, '_label'...</td>\n",
       "    </tr>\n",
       "    <tr>\n",
       "      <th>3</th>\n",
       "      <td>{'_id': {'offset': 6147, 'table': 7}, '_label'...</td>\n",
       "    </tr>\n",
       "    <tr>\n",
       "      <th>4</th>\n",
       "      <td>{'_id': {'offset': 6148, 'table': 7}, '_label'...</td>\n",
       "    </tr>\n",
       "    <tr>\n",
       "      <th>...</th>\n",
       "      <td>...</td>\n",
       "    </tr>\n",
       "    <tr>\n",
       "      <th>7506</th>\n",
       "      <td>{'_id': {'offset': 2043, 'table': 7}, '_label'...</td>\n",
       "    </tr>\n",
       "    <tr>\n",
       "      <th>7507</th>\n",
       "      <td>{'_id': {'offset': 2044, 'table': 7}, '_label'...</td>\n",
       "    </tr>\n",
       "    <tr>\n",
       "      <th>7508</th>\n",
       "      <td>{'_id': {'offset': 2045, 'table': 7}, '_label'...</td>\n",
       "    </tr>\n",
       "    <tr>\n",
       "      <th>7509</th>\n",
       "      <td>{'_id': {'offset': 2046, 'table': 7}, '_label'...</td>\n",
       "    </tr>\n",
       "    <tr>\n",
       "      <th>7510</th>\n",
       "      <td>{'_id': {'offset': 2047, 'table': 7}, '_label'...</td>\n",
       "    </tr>\n",
       "  </tbody>\n",
       "</table>\n",
       "<p>7511 rows × 1 columns</p>\n",
       "</div>"
      ],
      "text/plain": [
       "                                                      i\n",
       "0     {'_id': {'offset': 6144, 'table': 7}, '_label'...\n",
       "1     {'_id': {'offset': 6145, 'table': 7}, '_label'...\n",
       "2     {'_id': {'offset': 6146, 'table': 7}, '_label'...\n",
       "3     {'_id': {'offset': 6147, 'table': 7}, '_label'...\n",
       "4     {'_id': {'offset': 6148, 'table': 7}, '_label'...\n",
       "...                                                 ...\n",
       "7506  {'_id': {'offset': 2043, 'table': 7}, '_label'...\n",
       "7507  {'_id': {'offset': 2044, 'table': 7}, '_label'...\n",
       "7508  {'_id': {'offset': 2045, 'table': 7}, '_label'...\n",
       "7509  {'_id': {'offset': 2046, 'table': 7}, '_label'...\n",
       "7510  {'_id': {'offset': 2047, 'table': 7}, '_label'...\n",
       "\n",
       "[7511 rows x 1 columns]"
      ]
     },
     "execution_count": 14,
     "metadata": {},
     "output_type": "execute_result"
    }
   ],
   "source": [
    "cyph(\"\"\"match (i:income) return *\"\"\")"
   ]
  }
 ],
 "metadata": {
  "kernelspec": {
   "display_name": "Python 3 (ipykernel)",
   "language": "python",
   "name": "python3"
  },
  "language_info": {
   "codemirror_mode": {
    "name": "ipython",
    "version": 3
   },
   "file_extension": ".py",
   "mimetype": "text/x-python",
   "name": "python",
   "nbconvert_exporter": "python",
   "pygments_lexer": "ipython3",
   "version": "3.11.2"
  }
 },
 "nbformat": 4,
 "nbformat_minor": 5
}
